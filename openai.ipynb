
%pip install openai ipywidgets

import os
import ipywidgets as widgets
from IPython.display import display, clear_output
from openai import OpenAI


os.environ["GITHUB_TOKEN"] = "Your_github_token"
token = os.getenv("GITHUB_TOKEN")
endpoint   = "https://models.github.ai/inference"
# model_name = "openai/gpt-4o"
# model_name = "openai/gpt-4o-mini"
# model_name = "openai/gpt-4.1-mini"
model_name = "openai/gpt-4.1-nano"
# model_name = "openai/gpt-4.1"
client = OpenAI(base_url=endpoint, api_key=token)

history = [{"role":"system", "content":"You are a helpful assistant."}]

# — widgets —
chat_log = widgets.Textarea(
    value="",
    placeholder="Conversation will appear here",
    description="Chat:",
    layout=widgets.Layout(width="100%", height="300px"),
    disabled=True
)
user_in = widgets.Text(
    value="",
    placeholder="Type your message",
    description="You:",
    layout=widgets.Layout(width="80%")
)
send = widgets.Button(description="Send")

def on_send_clicked(b):
    user_msg = user_in.value.strip()
    if not user_msg:
        return
    # append user message
    history.append({"role":"user","content":user_msg})
    # call API
    resp = client.chat.completions.create(
        model=model_name,
        messages=history,
        temperature=1.0,
        top_p=1.0,
        max_tokens=500
    )
    assistant_msg = resp.choices[0].message.content
    history.append({"role":"assistant","content":assistant_msg})
    # update chat log
    lines = []
    for m in history:
        if m["role"]=="user":
            lines.append(f"You: {m['content']}")
        elif m["role"]=="assistant":
            lines.append(f"Assistant: {m['content']}")
    chat_log.value = "\n".join(lines)
    user_in.value = ""

send.on_click(on_send_clicked)
display(chat_log, widgets.HBox([user_in, send]))
